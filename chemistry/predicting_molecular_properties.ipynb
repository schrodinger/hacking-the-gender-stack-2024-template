{
 "cells": [
  {
   "cell_type": "code",
   "execution_count": 1,
   "metadata": {},
   "outputs": [],
   "source": [
    "from rdkit import Chem\n",
    "\n",
    "from rdkit.Chem import rdMolDescriptors\n",
    "\n",
    "import math\n",
    "import random\n",
    "import numpy as np"
   ]
  },
  {
   "cell_type": "markdown",
   "metadata": {},
   "source": [
    "## Example molecular property prediction: Solubility\n",
    "\n",
    "The idea for this project is to use *known* molecular properties to predict *unknown* molecular properties. You can get data for this project anywhere you'd like, but we suggest using Therapudic Data Commons. They have a python package that you can interact with directly.\n",
    "\n",
    "https://tdcommons.ai/overview/\n",
    "\n",
    "To install tdc:\n",
    "\n",
    "`pip install PyTDC`\n",
    "\n",
    "\n",
    "`get_split` will split your data into training data and testing data for you!"
   ]
  },
  {
   "cell_type": "code",
   "execution_count": 2,
   "metadata": {},
   "outputs": [
    {
     "name": "stderr",
     "output_type": "stream",
     "text": [
      "Found local copy...\n",
      "Loading...\n",
      "Done!\n"
     ]
    }
   ],
   "source": [
    "from tdc.single_pred import ADME\n",
    "\n",
    "data = ADME(name = 'Solubility_AqSolDB')\n",
    "split = data.get_split()"
   ]
  },
  {
   "cell_type": "markdown",
   "metadata": {},
   "source": [
    "## Take a look at the data"
   ]
  },
  {
   "cell_type": "code",
   "execution_count": 3,
   "metadata": {},
   "outputs": [
    {
     "data": {
      "text/html": [
       "<div>\n",
       "<style scoped>\n",
       "    .dataframe tbody tr th:only-of-type {\n",
       "        vertical-align: middle;\n",
       "    }\n",
       "\n",
       "    .dataframe tbody tr th {\n",
       "        vertical-align: top;\n",
       "    }\n",
       "\n",
       "    .dataframe thead th {\n",
       "        text-align: right;\n",
       "    }\n",
       "</style>\n",
       "<table border=\"1\" class=\"dataframe\">\n",
       "  <thead>\n",
       "    <tr style=\"text-align: right;\">\n",
       "      <th></th>\n",
       "      <th>Drug_ID</th>\n",
       "      <th>Drug</th>\n",
       "      <th>Y</th>\n",
       "    </tr>\n",
       "  </thead>\n",
       "  <tbody>\n",
       "    <tr>\n",
       "      <th>0</th>\n",
       "      <td>Benzo[cd]indol-2(1H)-one</td>\n",
       "      <td>O=C1Nc2cccc3cccc1c23</td>\n",
       "      <td>-3.254767</td>\n",
       "    </tr>\n",
       "    <tr>\n",
       "      <th>1</th>\n",
       "      <td>4-chlorobenzaldehyde</td>\n",
       "      <td>O=Cc1ccc(Cl)cc1</td>\n",
       "      <td>-2.177078</td>\n",
       "    </tr>\n",
       "    <tr>\n",
       "      <th>2</th>\n",
       "      <td>4-({4-[bis(oxiran-2-ylmethyl)amino]phenyl}meth...</td>\n",
       "      <td>c1cc(N(CC2CO2)CC2CO2)ccc1Cc1ccc(N(CC2CO2)CC2CO...</td>\n",
       "      <td>-4.662065</td>\n",
       "    </tr>\n",
       "    <tr>\n",
       "      <th>3</th>\n",
       "      <td>vinyltoluene</td>\n",
       "      <td>C=Cc1cccc(C)c1</td>\n",
       "      <td>-3.123150</td>\n",
       "    </tr>\n",
       "    <tr>\n",
       "      <th>4</th>\n",
       "      <td>3-(3-ethylcyclopentyl)propanoic acid</td>\n",
       "      <td>CCC1CCC(CCC(=O)O)C1</td>\n",
       "      <td>-3.286116</td>\n",
       "    </tr>\n",
       "    <tr>\n",
       "      <th>...</th>\n",
       "      <td>...</td>\n",
       "      <td>...</td>\n",
       "      <td>...</td>\n",
       "    </tr>\n",
       "    <tr>\n",
       "      <th>6983</th>\n",
       "      <td>sarafloxacin</td>\n",
       "      <td>O=C(O)c1cn(-c2ccc(F)cc2)c2cc(N3CCNCC3)c(F)cc2c1=O</td>\n",
       "      <td>-3.130000</td>\n",
       "    </tr>\n",
       "    <tr>\n",
       "      <th>6984</th>\n",
       "      <td>sparfloxacin</td>\n",
       "      <td>C[C@H]1CN(c2c(F)c(N)c3c(=O)c(C(=O)O)cn(C4CC4)c...</td>\n",
       "      <td>-3.370000</td>\n",
       "    </tr>\n",
       "    <tr>\n",
       "      <th>6985</th>\n",
       "      <td>sulindac_form_II</td>\n",
       "      <td>CC1=C(CC(=O)O)c2cc(F)ccc2/C1=C/c1ccc(S(C)=O)cc1</td>\n",
       "      <td>-4.500000</td>\n",
       "    </tr>\n",
       "    <tr>\n",
       "      <th>6986</th>\n",
       "      <td>tetracaine</td>\n",
       "      <td>CCCCNc1ccc(C(=O)OCCN(C)C)cc1</td>\n",
       "      <td>-3.010000</td>\n",
       "    </tr>\n",
       "    <tr>\n",
       "      <th>6987</th>\n",
       "      <td>thymol</td>\n",
       "      <td>Cc1ccc(C(C)C)c(O)c1</td>\n",
       "      <td>-2.190000</td>\n",
       "    </tr>\n",
       "  </tbody>\n",
       "</table>\n",
       "<p>6988 rows × 3 columns</p>\n",
       "</div>"
      ],
      "text/plain": [
       "                                                Drug_ID  \\\n",
       "0                              Benzo[cd]indol-2(1H)-one   \n",
       "1                                  4-chlorobenzaldehyde   \n",
       "2     4-({4-[bis(oxiran-2-ylmethyl)amino]phenyl}meth...   \n",
       "3                                          vinyltoluene   \n",
       "4                  3-(3-ethylcyclopentyl)propanoic acid   \n",
       "...                                                 ...   \n",
       "6983                                       sarafloxacin   \n",
       "6984                                       sparfloxacin   \n",
       "6985                                   sulindac_form_II   \n",
       "6986                                         tetracaine   \n",
       "6987                                             thymol   \n",
       "\n",
       "                                                   Drug         Y  \n",
       "0                                  O=C1Nc2cccc3cccc1c23 -3.254767  \n",
       "1                                       O=Cc1ccc(Cl)cc1 -2.177078  \n",
       "2     c1cc(N(CC2CO2)CC2CO2)ccc1Cc1ccc(N(CC2CO2)CC2CO... -4.662065  \n",
       "3                                        C=Cc1cccc(C)c1 -3.123150  \n",
       "4                                   CCC1CCC(CCC(=O)O)C1 -3.286116  \n",
       "...                                                 ...       ...  \n",
       "6983  O=C(O)c1cn(-c2ccc(F)cc2)c2cc(N3CCNCC3)c(F)cc2c1=O -3.130000  \n",
       "6984  C[C@H]1CN(c2c(F)c(N)c3c(=O)c(C(=O)O)cn(C4CC4)c... -3.370000  \n",
       "6985    CC1=C(CC(=O)O)c2cc(F)ccc2/C1=C/c1ccc(S(C)=O)cc1 -4.500000  \n",
       "6986                       CCCCNc1ccc(C(=O)OCCN(C)C)cc1 -3.010000  \n",
       "6987                                Cc1ccc(C(C)C)c(O)c1 -2.190000  \n",
       "\n",
       "[6988 rows x 3 columns]"
      ]
     },
     "execution_count": 3,
     "metadata": {},
     "output_type": "execute_result"
    }
   ],
   "source": [
    "split['train']"
   ]
  },
  {
   "cell_type": "code",
   "execution_count": 4,
   "metadata": {},
   "outputs": [
    {
     "data": {
      "text/html": [
       "<div>\n",
       "<style scoped>\n",
       "    .dataframe tbody tr th:only-of-type {\n",
       "        vertical-align: middle;\n",
       "    }\n",
       "\n",
       "    .dataframe tbody tr th {\n",
       "        vertical-align: top;\n",
       "    }\n",
       "\n",
       "    .dataframe thead th {\n",
       "        text-align: right;\n",
       "    }\n",
       "</style>\n",
       "<table border=\"1\" class=\"dataframe\">\n",
       "  <thead>\n",
       "    <tr style=\"text-align: right;\">\n",
       "      <th></th>\n",
       "      <th>Drug_ID</th>\n",
       "      <th>Drug</th>\n",
       "      <th>Y</th>\n",
       "    </tr>\n",
       "  </thead>\n",
       "  <tbody>\n",
       "    <tr>\n",
       "      <th>0</th>\n",
       "      <td>2-ethyl-9,10-dihydroanthracene-9,10-dione</td>\n",
       "      <td>CCc1ccc2c(c1)C(=O)c1ccccc1C2=O</td>\n",
       "      <td>-5.984242</td>\n",
       "    </tr>\n",
       "    <tr>\n",
       "      <th>1</th>\n",
       "      <td>Digoxin</td>\n",
       "      <td>CC1OC(OC2C(O)CC(OC3C(O)CC(OC4CCC5(C)C(CCC6C5CC...</td>\n",
       "      <td>-4.160000</td>\n",
       "    </tr>\n",
       "    <tr>\n",
       "      <th>2</th>\n",
       "      <td>diphenic acid</td>\n",
       "      <td>O=C(O)c1ccccc1-c1ccccc1C(=O)O</td>\n",
       "      <td>-2.283900</td>\n",
       "    </tr>\n",
       "    <tr>\n",
       "      <th>3</th>\n",
       "      <td>pentachlorobutadiene</td>\n",
       "      <td>ClC(Cl)=CC(Cl)=C(Cl)Cl</td>\n",
       "      <td>-4.230000</td>\n",
       "    </tr>\n",
       "    <tr>\n",
       "      <th>4</th>\n",
       "      <td>trimethyl phosphate</td>\n",
       "      <td>COP(=O)(OC)OC</td>\n",
       "      <td>0.552600</td>\n",
       "    </tr>\n",
       "    <tr>\n",
       "      <th>...</th>\n",
       "      <td>...</td>\n",
       "      <td>...</td>\n",
       "      <td>...</td>\n",
       "    </tr>\n",
       "    <tr>\n",
       "      <th>1991</th>\n",
       "      <td>4-vinylpyridine</td>\n",
       "      <td>C=Cc1ccncc1</td>\n",
       "      <td>-0.557900</td>\n",
       "    </tr>\n",
       "    <tr>\n",
       "      <th>1992</th>\n",
       "      <td>Benzoic acid, 2-hydroxy-5-[[4-[[4-[[8-hydroxy-...</td>\n",
       "      <td>COc1cc(N=Nc2cc(S(=O)(=O)[O-])cc3cc(S(=O)(=O)[O...</td>\n",
       "      <td>-2.483388</td>\n",
       "    </tr>\n",
       "    <tr>\n",
       "      <th>1993</th>\n",
       "      <td>(2E)-1-(2,6,6-trimethylcyclohex-3-en-1-yl)but-...</td>\n",
       "      <td>C/C=C/C(=O)C1C(C)C=CCC1(C)C</td>\n",
       "      <td>-3.396367</td>\n",
       "    </tr>\n",
       "    <tr>\n",
       "      <th>1994</th>\n",
       "      <td>1-bromo-2-ethylbenzene</td>\n",
       "      <td>CCc1ccccc1Br</td>\n",
       "      <td>-3.670200</td>\n",
       "    </tr>\n",
       "    <tr>\n",
       "      <th>1995</th>\n",
       "      <td>potassium hydrogen benzene-1,2-dicarboxylate</td>\n",
       "      <td>O=C([O-])c1ccccc1C(=O)O.[K+]</td>\n",
       "      <td>-0.391024</td>\n",
       "    </tr>\n",
       "  </tbody>\n",
       "</table>\n",
       "<p>1996 rows × 3 columns</p>\n",
       "</div>"
      ],
      "text/plain": [
       "                                                Drug_ID  \\\n",
       "0             2-ethyl-9,10-dihydroanthracene-9,10-dione   \n",
       "1                                               Digoxin   \n",
       "2                                         diphenic acid   \n",
       "3                                  pentachlorobutadiene   \n",
       "4                                   trimethyl phosphate   \n",
       "...                                                 ...   \n",
       "1991                                    4-vinylpyridine   \n",
       "1992  Benzoic acid, 2-hydroxy-5-[[4-[[4-[[8-hydroxy-...   \n",
       "1993  (2E)-1-(2,6,6-trimethylcyclohex-3-en-1-yl)but-...   \n",
       "1994                             1-bromo-2-ethylbenzene   \n",
       "1995       potassium hydrogen benzene-1,2-dicarboxylate   \n",
       "\n",
       "                                                   Drug         Y  \n",
       "0                        CCc1ccc2c(c1)C(=O)c1ccccc1C2=O -5.984242  \n",
       "1     CC1OC(OC2C(O)CC(OC3C(O)CC(OC4CCC5(C)C(CCC6C5CC... -4.160000  \n",
       "2                         O=C(O)c1ccccc1-c1ccccc1C(=O)O -2.283900  \n",
       "3                                ClC(Cl)=CC(Cl)=C(Cl)Cl -4.230000  \n",
       "4                                         COP(=O)(OC)OC  0.552600  \n",
       "...                                                 ...       ...  \n",
       "1991                                        C=Cc1ccncc1 -0.557900  \n",
       "1992  COc1cc(N=Nc2cc(S(=O)(=O)[O-])cc3cc(S(=O)(=O)[O... -2.483388  \n",
       "1993                        C/C=C/C(=O)C1C(C)C=CCC1(C)C -3.396367  \n",
       "1994                                       CCc1ccccc1Br -3.670200  \n",
       "1995                       O=C([O-])c1ccccc1C(=O)O.[K+] -0.391024  \n",
       "\n",
       "[1996 rows x 3 columns]"
      ]
     },
     "execution_count": 4,
     "metadata": {},
     "output_type": "execute_result"
    }
   ],
   "source": [
    "split['test']"
   ]
  },
  {
   "cell_type": "markdown",
   "metadata": {},
   "source": [
    "## How do we describe a molecule using data?\n",
    "\n",
    "To train a machine learning model, we need a way to represent a molecule using data. SMILES itself doesn't contain a lot of information, so we can start by using molecular descriptors."
   ]
  },
  {
   "cell_type": "code",
   "execution_count": 5,
   "metadata": {},
   "outputs": [
    {
     "name": "stdout",
     "output_type": "stream",
     "text": [
      "exactmw: 236.083729624\n",
      "amw: 236.26999999999998\n",
      "lipinskiHBA: 2.0\n",
      "lipinskiHBD: 0.0\n",
      "NumRotatableBonds: 1.0\n",
      "NumHBD: 0.0\n",
      "NumHBA: 2.0\n",
      "NumHeavyAtoms: 18.0\n",
      "NumAtoms: 30.0\n",
      "NumHeteroatoms: 2.0\n",
      "NumAmideBonds: 0.0\n",
      "FractionCSP3: 0.125\n",
      "NumRings: 3.0\n",
      "NumAromaticRings: 2.0\n",
      "NumAliphaticRings: 1.0\n",
      "NumSaturatedRings: 0.0\n",
      "NumHeterocycles: 0.0\n",
      "NumAromaticHeterocycles: 0.0\n",
      "NumSaturatedHeterocycles: 0.0\n",
      "NumAliphaticHeterocycles: 0.0\n",
      "NumSpiroAtoms: 0.0\n",
      "NumBridgeheadAtoms: 0.0\n",
      "NumAtomStereoCenters: 0.0\n",
      "NumUnspecifiedAtomStereoCenters: 0.0\n",
      "labuteASA: 105.26547882970576\n",
      "tpsa: 34.14\n",
      "CrippenClogP: 3.024400000000001\n",
      "CrippenMR: 69.12700000000002\n",
      "chi0v: 10.065055246441656\n",
      "chi1v: 6.034292603145896\n",
      "chi2v: 3.3977953144313253\n",
      "chi3v: 3.3977953144313253\n",
      "chi4v: 2.366473296421212\n",
      "chi0n: 10.065055246441656\n",
      "chi1n: 6.034292603145896\n",
      "chi2n: 3.3977953144313253\n",
      "chi3n: 3.3977953144313253\n",
      "chi4n: 2.366473296421212\n",
      "hallKierAlpha: -2.2199999999999998\n",
      "kappa1: 10.904163472816741\n",
      "kappa2: 3.913377321142427\n",
      "kappa3: 1.4222677668352413\n",
      "Phi: 2.370672557808371\n"
     ]
    }
   ],
   "source": [
    "m = Chem.MolFromSmiles(\"CCc1ccc2c(c1)C(=O)c1ccccc1C2=O\")\n",
    "properties = rdMolDescriptors.Properties()\n",
    "names = properties.GetPropertyNames()\n",
    "values = properties.ComputeProperties(m)\n",
    "for name, value in zip(names, values):\n",
    "    print(f\"{name}: {value}\")"
   ]
  },
  {
   "cell_type": "code",
   "execution_count": 6,
   "metadata": {},
   "outputs": [],
   "source": [
    "def mol_to_vector(smiles):\n",
    "    mol = Chem.MolFromSmiles(smiles)\n",
    "    if mol is None:\n",
    "        return None\n",
    "    \n",
    "    properties = rdMolDescriptors.Properties()\n",
    "    # To consider: which properties are the most helpful in predicting your\n",
    "    # desired properties?\n",
    "    return list(properties.ComputeProperties(mol))"
   ]
  },
  {
   "cell_type": "markdown",
   "metadata": {},
   "source": [
    "## Some data wrangling"
   ]
  },
  {
   "cell_type": "code",
   "execution_count": 7,
   "metadata": {},
   "outputs": [],
   "source": [
    "y_training = []\n",
    "x_training = []\n",
    "\n",
    "for ind in split['train'].index:\n",
    "    mol_vec = mol_to_vector(split['train']['Drug'][ind])\n",
    "    if mol_vec is None:\n",
    "        # issue reading smiles?\n",
    "        continue\n",
    "    x_training.append(mol_vec)\n",
    "    y_training.append(split['train']['Y'][ind])\n",
    "\n",
    "# Testing data\n",
    "x_testing = []\n",
    "test_target = []\n",
    "\n",
    "for ind in split['test'].index:\n",
    "    mol_vec = mol_to_vector(split['test']['Drug'][ind])\n",
    "    if mol_vec is None:\n",
    "        continue\n",
    "    x_testing.append(mol_vec)\n",
    "    test_target.append(split['test']['Y'][ind])"
   ]
  },
  {
   "cell_type": "markdown",
   "metadata": {},
   "source": [
    "## Build model and run predictions"
   ]
  },
  {
   "cell_type": "code",
   "execution_count": 8,
   "metadata": {},
   "outputs": [
    {
     "name": "stdout",
     "output_type": "stream",
     "text": [
      "Mean squared error (MSE): 3.0880690993561983\n",
      "R^2: 0.4309477928028421\n"
     ]
    }
   ],
   "source": [
    "from sklearn import linear_model\n",
    "from sklearn.metrics import r2_score, mean_squared_error, mean_absolute_error\n",
    "\n",
    "model = linear_model.BayesianRidge()\n",
    "model.fit(x_training, y_training)\n",
    "\n",
    "test_output = model.predict(x_testing)\n",
    "\n",
    "print(f'Mean squared error (MSE): {mean_squared_error(test_target, test_output)}')\n",
    "print(f'R^2: {r2_score(test_target, test_output)}')"
   ]
  },
  {
   "cell_type": "markdown",
   "metadata": {},
   "source": [
    "## Plot results\n",
    "\n",
    "What else would be interesting to plot other than absolute error?"
   ]
  },
  {
   "cell_type": "code",
   "execution_count": 9,
   "metadata": {},
   "outputs": [
    {
     "data": {
      "image/png": "[encoded data removed]",
      "text/plain": [
       "<Figure size 432x288 with 1 Axes>"
      ]
     },
     "metadata": {
      "needs_background": "light"
     },
     "output_type": "display_data"
    }
   ],
   "source": [
    "import matplotlib.pyplot as plt\n",
    "%matplotlib inline\n",
    "\n",
    "abs_error = abs(test_target - test_output)\n",
    "plt.plot(abs_error, '*')\n",
    "plt.show()"
   ]
  },
  {
   "cell_type": "markdown",
   "metadata": {},
   "source": [
    "# For your project\n",
    "\n",
    "* Try other datasets!\n",
    "* What is the best model to use?\n",
    "* What molecular descriptors are the best to use when prediciting certain properties?\n",
    "    * You could look into other libraries that calculate molecular descriptors, such as https://github.com/samoturk/mol2vec\n",
    "    * You could also use sklearn.feature_selection to determine the best descriptors to use in prediction\n",
    "    * You could consider using fingerprints as the input to your model https://greglandrum.github.io/rdkit-blog/posts/2023-01-18-fingerprint-generator-tutorial.html\n",
    "* How will this interact with the web app your team is building? What sort of information do you want to communicate with the front end, and what information to do want to communicate back?"
   ]
  },
  {
   "cell_type": "code",
   "execution_count": null,
   "metadata": {},
   "outputs": [],
   "source": []
  }
 ],
 "metadata": {
  "kernelspec": {
   "display_name": "Python 3",
   "language": "python",
   "name": "python3"
  },
  "language_info": {
   "codemirror_mode": {
    "name": "ipython",
    "version": 3
   },
   "file_extension": ".py",
   "mimetype": "text/x-python",
   "name": "python",
   "nbconvert_exporter": "python",
   "pygments_lexer": "ipython3",
   "version": "3.8.10"
  }
 },
 "nbformat": 4,
 "nbformat_minor": 4
}
